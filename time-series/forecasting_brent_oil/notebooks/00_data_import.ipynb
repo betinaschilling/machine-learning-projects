{
 "cells": [
  {
   "cell_type": "code",
   "execution_count": null,
   "id": "6e834628",
   "metadata": {},
   "outputs": [
    {
     "ename": "",
     "evalue": "",
     "output_type": "error",
     "traceback": [
      "\u001b[1;31mRunning cells with 'Python 3.12.3' requires the ipykernel package.\n",
      "\u001b[1;31mRun the following command to install 'ipykernel' into the Python environment. \n",
      "\u001b[1;31mCommand: '/bin/python3 -m pip install ipykernel -U --user --force-reinstall'"
     ]
    }
   ],
   "source": [
    "from src.fetch_data import get_brent_data\n",
    "import pandas as pd\n",
    "import matplotlib.pyplot as plt\n",
    "\n",
    "# Coleta ou leitura do arquivo já salvo\n",
    "df = get_brent_data()  # Ou: pd.read_csv('data/brent_raw.csv')\n",
    "\n",
    "## 🔍 Visualização inicial\n",
    "print(df.head())\n",
    "print(df.describe())\n",
    "\n",
    "# Checar nulos\n",
    "print(df.isnull().sum())\n",
    "\n",
    "# Plot da série temporal\n",
    "plt.figure(figsize=(12, 5))\n",
    "plt.plot(df['date'], df['close'])\n",
    "plt.title(\"Preço de Fechamento do Petróleo Brent\")\n",
    "plt.xlabel(\"Data\")\n",
    "plt.ylabel(\"USD\")\n",
    "plt.grid(True)\n",
    "plt.tight_layout()\n",
    "plt.show()\n"
   ]
  }
 ],
 "metadata": {
  "kernelspec": {
   "display_name": "Python 3",
   "language": "python",
   "name": "python3"
  },
  "language_info": {
   "codemirror_mode": {
    "name": "ipython",
    "version": 3
   },
   "file_extension": ".py",
   "mimetype": "text/x-python",
   "name": "python",
   "nbconvert_exporter": "python",
   "pygments_lexer": "ipython3",
   "version": "3.12.3"
  }
 },
 "nbformat": 4,
 "nbformat_minor": 5
}
