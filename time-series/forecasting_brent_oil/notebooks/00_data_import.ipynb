{
 "cells": [
  {
   "cell_type": "code",
   "execution_count": 5,
   "id": "6e834628",
   "metadata": {},
   "outputs": [
    {
     "ename": "ModuleNotFoundError",
     "evalue": "No module named 'src'",
     "output_type": "error",
     "traceback": [
      "\u001b[0;31m---------------------------------------------------------------------------\u001b[0m",
      "\u001b[0;31mModuleNotFoundError\u001b[0m                       Traceback (most recent call last)",
      "Cell \u001b[0;32mIn[5], line 40\u001b[0m\n\u001b[1;32m     38\u001b[0m \u001b[38;5;66;03m# Executa se chamado diretamente (fora de notebook)\u001b[39;00m\n\u001b[1;32m     39\u001b[0m \u001b[38;5;28;01mif\u001b[39;00m \u001b[38;5;18m__name__\u001b[39m \u001b[38;5;241m==\u001b[39m \u001b[38;5;124m\"\u001b[39m\u001b[38;5;124m__main__\u001b[39m\u001b[38;5;124m\"\u001b[39m:\n\u001b[0;32m---> 40\u001b[0m     init_notebook()\n",
      "Cell \u001b[0;32mIn[5], line 5\u001b[0m, in \u001b[0;36minit_notebook\u001b[0;34m()\u001b[0m\n\u001b[1;32m      4\u001b[0m \u001b[38;5;28;01mdef\u001b[39;00m \u001b[38;5;21minit_notebook\u001b[39m():\n\u001b[0;32m----> 5\u001b[0m     \u001b[38;5;28;01mfrom\u001b[39;00m \u001b[38;5;21;01msrc\u001b[39;00m\u001b[38;5;21;01m.\u001b[39;00m\u001b[38;5;21;01mfetch_data\u001b[39;00m \u001b[38;5;28;01mimport\u001b[39;00m get_brent_data\n\u001b[1;32m      6\u001b[0m     \u001b[38;5;28;01mimport\u001b[39;00m \u001b[38;5;21;01mpandas\u001b[39;00m \u001b[38;5;28;01mas\u001b[39;00m \u001b[38;5;21;01mpd\u001b[39;00m\n\u001b[1;32m      7\u001b[0m     \u001b[38;5;28;01mimport\u001b[39;00m \u001b[38;5;21;01mmatplotlib\u001b[39;00m\u001b[38;5;21;01m.\u001b[39;00m\u001b[38;5;21;01mpyplot\u001b[39;00m \u001b[38;5;28;01mas\u001b[39;00m \u001b[38;5;21;01mplt\u001b[39;00m\n",
      "\u001b[0;31mModuleNotFoundError\u001b[0m: No module named 'src'"
     ]
    }
   ],
   "source": [
    "# notebooks/00_data_import.ipynb\n",
    "\n",
    "# Importa a função de coleta de dados\n",
    "def init_notebook():\n",
    "    from src.fetch_data import get_brent_data\n",
    "    import pandas as pd\n",
    "    import matplotlib.pyplot as plt\n",
    "    import seaborn as sns\n",
    "    import warnings\n",
    "    warnings.filterwarnings('ignore')\n",
    "    sns.set(style=\"whitegrid\")\n",
    "\n",
    "    # Carrega os dados (baixa da API se necessário)\n",
    "    df = get_brent_data()\n",
    "\n",
    "    # Visualização inicial\n",
    "    print(\"\\nVisualização dos primeiros registros:\\n\")\n",
    "    display(df.head())\n",
    "\n",
    "    print(\"\\nResumo estatístico:\\n\")\n",
    "    display(df.describe())\n",
    "\n",
    "    print(\"\\nValores ausentes por coluna:\\n\")\n",
    "    display(df.isnull().sum())\n",
    "\n",
    "    # Plot da série temporal (preço de fechamento)\n",
    "    plt.figure(figsize=(12, 5))\n",
    "    plt.plot(df['date'], df['close'], label='Close Price', color='steelblue')\n",
    "    plt.title(\"Preço de Fechamento do Petróleo Brent\", fontsize=14)\n",
    "    plt.xlabel(\"Data\")\n",
    "    plt.ylabel(\"Preço em USD\")\n",
    "    plt.tight_layout()\n",
    "    plt.legend()\n",
    "    plt.show()\n",
    "\n",
    "    return df\n",
    "\n",
    "# Executa se chamado diretamente (fora de notebook)\n",
    "if __name__ == \"__main__\":\n",
    "    init_notebook()"
   ]
  }
 ],
 "metadata": {
  "kernelspec": {
   "display_name": "base",
   "language": "python",
   "name": "python3"
  },
  "language_info": {
   "codemirror_mode": {
    "name": "ipython",
    "version": 3
   },
   "file_extension": ".py",
   "mimetype": "text/x-python",
   "name": "python",
   "nbconvert_exporter": "python",
   "pygments_lexer": "ipython3",
   "version": "3.11.7"
  }
 },
 "nbformat": 4,
 "nbformat_minor": 5
}
